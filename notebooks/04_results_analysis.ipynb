{
 "cells": [
  {
   "cell_type": "code",
   "execution_count": 1,
   "id": "7af352cf",
   "metadata": {},
   "outputs": [],
   "source": [
    "import pandas as pd"
   ]
  },
  {
   "cell_type": "code",
   "execution_count": 6,
   "id": "851151d8",
   "metadata": {},
   "outputs": [
    {
     "data": {
      "text/html": [
       "<div>\n",
       "<style scoped>\n",
       "    .dataframe tbody tr th:only-of-type {\n",
       "        vertical-align: middle;\n",
       "    }\n",
       "\n",
       "    .dataframe tbody tr th {\n",
       "        vertical-align: top;\n",
       "    }\n",
       "\n",
       "    .dataframe thead th {\n",
       "        text-align: right;\n",
       "    }\n",
       "</style>\n",
       "<table border=\"1\" class=\"dataframe\">\n",
       "  <thead>\n",
       "    <tr style=\"text-align: right;\">\n",
       "      <th></th>\n",
       "      <th>model_name</th>\n",
       "      <th>accuracy</th>\n",
       "      <th>precision_1</th>\n",
       "      <th>recall_1</th>\n",
       "      <th>f1_score_1</th>\n",
       "      <th>notes</th>\n",
       "    </tr>\n",
       "  </thead>\n",
       "  <tbody>\n",
       "    <tr>\n",
       "      <th>0</th>\n",
       "      <td>Logistic Regression - heart_encoded</td>\n",
       "      <td>0.858696</td>\n",
       "      <td>0.909091</td>\n",
       "      <td>0.841121</td>\n",
       "      <td>0.873786</td>\n",
       "      <td>Baseline model with all features</td>\n",
       "    </tr>\n",
       "    <tr>\n",
       "      <th>1</th>\n",
       "      <td>Random Forest - heart_encoded</td>\n",
       "      <td>0.869565</td>\n",
       "      <td>0.887850</td>\n",
       "      <td>0.887850</td>\n",
       "      <td>0.887850</td>\n",
       "      <td>Untuned RF with all features</td>\n",
       "    </tr>\n",
       "    <tr>\n",
       "      <th>2</th>\n",
       "      <td>Tuned Random Forest - heart_encoded</td>\n",
       "      <td>0.869565</td>\n",
       "      <td>0.887850</td>\n",
       "      <td>0.887850</td>\n",
       "      <td>0.887850</td>\n",
       "      <td>GridSearchCV tuned RF</td>\n",
       "    </tr>\n",
       "    <tr>\n",
       "      <th>3</th>\n",
       "      <td>Logistic Regression - 01_heart_engineered</td>\n",
       "      <td>0.869565</td>\n",
       "      <td>0.902913</td>\n",
       "      <td>0.869159</td>\n",
       "      <td>0.885714</td>\n",
       "      <td>Baseline model with all features</td>\n",
       "    </tr>\n",
       "    <tr>\n",
       "      <th>4</th>\n",
       "      <td>Random Forest - 01_heart_engineered</td>\n",
       "      <td>0.858696</td>\n",
       "      <td>0.885714</td>\n",
       "      <td>0.869159</td>\n",
       "      <td>0.877358</td>\n",
       "      <td>Untuned RF with all features</td>\n",
       "    </tr>\n",
       "    <tr>\n",
       "      <th>5</th>\n",
       "      <td>Tuned Random Forest - 01_heart_engineered</td>\n",
       "      <td>0.847826</td>\n",
       "      <td>0.876190</td>\n",
       "      <td>0.859813</td>\n",
       "      <td>0.867925</td>\n",
       "      <td>GridSearchCV tuned RF</td>\n",
       "    </tr>\n",
       "  </tbody>\n",
       "</table>\n",
       "</div>"
      ],
      "text/plain": [
       "                                  model_name  accuracy  precision_1  recall_1  \\\n",
       "0        Logistic Regression - heart_encoded  0.858696     0.909091  0.841121   \n",
       "1              Random Forest - heart_encoded  0.869565     0.887850  0.887850   \n",
       "2        Tuned Random Forest - heart_encoded  0.869565     0.887850  0.887850   \n",
       "3  Logistic Regression - 01_heart_engineered  0.869565     0.902913  0.869159   \n",
       "4        Random Forest - 01_heart_engineered  0.858696     0.885714  0.869159   \n",
       "5  Tuned Random Forest - 01_heart_engineered  0.847826     0.876190  0.859813   \n",
       "\n",
       "   f1_score_1                             notes  \n",
       "0    0.873786  Baseline model with all features  \n",
       "1    0.887850      Untuned RF with all features  \n",
       "2    0.887850             GridSearchCV tuned RF  \n",
       "3    0.885714  Baseline model with all features  \n",
       "4    0.877358      Untuned RF with all features  \n",
       "5    0.867925             GridSearchCV tuned RF  "
      ]
     },
     "execution_count": 6,
     "metadata": {},
     "output_type": "execute_result"
    }
   ],
   "source": [
    "df = pd.read_csv('../model_results.csv')\n",
    "df.head(10)"
   ]
  }
 ],
 "metadata": {
  "kernelspec": {
   "display_name": ".venv",
   "language": "python",
   "name": "python3"
  },
  "language_info": {
   "codemirror_mode": {
    "name": "ipython",
    "version": 3
   },
   "file_extension": ".py",
   "mimetype": "text/x-python",
   "name": "python",
   "nbconvert_exporter": "python",
   "pygments_lexer": "ipython3",
   "version": "3.11.9"
  }
 },
 "nbformat": 4,
 "nbformat_minor": 5
}
