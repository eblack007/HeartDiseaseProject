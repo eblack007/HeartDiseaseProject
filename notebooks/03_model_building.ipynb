{
 "cells": [
  {
   "cell_type": "markdown",
   "id": "78ee7e79",
   "metadata": {},
   "source": [
    "# <ins>Model Building File</ins>"
   ]
  },
  {
   "cell_type": "code",
   "execution_count": 44,
   "id": "7d8e156d",
   "metadata": {},
   "outputs": [
    {
     "data": {
      "text/html": [
       "<div>\n",
       "<style scoped>\n",
       "    .dataframe tbody tr th:only-of-type {\n",
       "        vertical-align: middle;\n",
       "    }\n",
       "\n",
       "    .dataframe tbody tr th {\n",
       "        vertical-align: top;\n",
       "    }\n",
       "\n",
       "    .dataframe thead th {\n",
       "        text-align: right;\n",
       "    }\n",
       "</style>\n",
       "<table border=\"1\" class=\"dataframe\">\n",
       "  <thead>\n",
       "    <tr style=\"text-align: right;\">\n",
       "      <th></th>\n",
       "      <th>Age</th>\n",
       "      <th>Sex</th>\n",
       "      <th>RestingBP</th>\n",
       "      <th>Cholesterol</th>\n",
       "      <th>FastingBS</th>\n",
       "      <th>MaxHR</th>\n",
       "      <th>ExerciseAngina</th>\n",
       "      <th>Oldpeak</th>\n",
       "      <th>HeartDisease</th>\n",
       "      <th>ChestPainType_ATA</th>\n",
       "      <th>ChestPainType_NAP</th>\n",
       "      <th>ChestPainType_TA</th>\n",
       "      <th>RestingECG_Normal</th>\n",
       "      <th>RestingECG_ST</th>\n",
       "      <th>ST_Slope_Flat</th>\n",
       "      <th>ST_Slope_Up</th>\n",
       "      <th>Age_x_Oldpeak</th>\n",
       "      <th>Age_x_Cholesterol</th>\n",
       "      <th>Oldpeak_sq</th>\n",
       "    </tr>\n",
       "  </thead>\n",
       "  <tbody>\n",
       "    <tr>\n",
       "      <th>0</th>\n",
       "      <td>40</td>\n",
       "      <td>0</td>\n",
       "      <td>140.0</td>\n",
       "      <td>289.0</td>\n",
       "      <td>0</td>\n",
       "      <td>172</td>\n",
       "      <td>0</td>\n",
       "      <td>0.0</td>\n",
       "      <td>0</td>\n",
       "      <td>1</td>\n",
       "      <td>0</td>\n",
       "      <td>0</td>\n",
       "      <td>1</td>\n",
       "      <td>0</td>\n",
       "      <td>0</td>\n",
       "      <td>1</td>\n",
       "      <td>0.0</td>\n",
       "      <td>11560.0</td>\n",
       "      <td>0.00</td>\n",
       "    </tr>\n",
       "    <tr>\n",
       "      <th>1</th>\n",
       "      <td>49</td>\n",
       "      <td>1</td>\n",
       "      <td>160.0</td>\n",
       "      <td>180.0</td>\n",
       "      <td>0</td>\n",
       "      <td>156</td>\n",
       "      <td>0</td>\n",
       "      <td>1.0</td>\n",
       "      <td>1</td>\n",
       "      <td>0</td>\n",
       "      <td>1</td>\n",
       "      <td>0</td>\n",
       "      <td>1</td>\n",
       "      <td>0</td>\n",
       "      <td>1</td>\n",
       "      <td>0</td>\n",
       "      <td>49.0</td>\n",
       "      <td>8820.0</td>\n",
       "      <td>1.00</td>\n",
       "    </tr>\n",
       "    <tr>\n",
       "      <th>2</th>\n",
       "      <td>37</td>\n",
       "      <td>0</td>\n",
       "      <td>130.0</td>\n",
       "      <td>283.0</td>\n",
       "      <td>0</td>\n",
       "      <td>98</td>\n",
       "      <td>0</td>\n",
       "      <td>0.0</td>\n",
       "      <td>0</td>\n",
       "      <td>1</td>\n",
       "      <td>0</td>\n",
       "      <td>0</td>\n",
       "      <td>0</td>\n",
       "      <td>1</td>\n",
       "      <td>0</td>\n",
       "      <td>1</td>\n",
       "      <td>0.0</td>\n",
       "      <td>10471.0</td>\n",
       "      <td>0.00</td>\n",
       "    </tr>\n",
       "    <tr>\n",
       "      <th>3</th>\n",
       "      <td>48</td>\n",
       "      <td>1</td>\n",
       "      <td>138.0</td>\n",
       "      <td>214.0</td>\n",
       "      <td>0</td>\n",
       "      <td>108</td>\n",
       "      <td>1</td>\n",
       "      <td>1.5</td>\n",
       "      <td>1</td>\n",
       "      <td>0</td>\n",
       "      <td>0</td>\n",
       "      <td>0</td>\n",
       "      <td>1</td>\n",
       "      <td>0</td>\n",
       "      <td>1</td>\n",
       "      <td>0</td>\n",
       "      <td>72.0</td>\n",
       "      <td>10272.0</td>\n",
       "      <td>2.25</td>\n",
       "    </tr>\n",
       "    <tr>\n",
       "      <th>4</th>\n",
       "      <td>54</td>\n",
       "      <td>0</td>\n",
       "      <td>150.0</td>\n",
       "      <td>195.0</td>\n",
       "      <td>0</td>\n",
       "      <td>122</td>\n",
       "      <td>0</td>\n",
       "      <td>0.0</td>\n",
       "      <td>0</td>\n",
       "      <td>0</td>\n",
       "      <td>1</td>\n",
       "      <td>0</td>\n",
       "      <td>1</td>\n",
       "      <td>0</td>\n",
       "      <td>0</td>\n",
       "      <td>1</td>\n",
       "      <td>0.0</td>\n",
       "      <td>10530.0</td>\n",
       "      <td>0.00</td>\n",
       "    </tr>\n",
       "  </tbody>\n",
       "</table>\n",
       "</div>"
      ],
      "text/plain": [
       "   Age  Sex  RestingBP  Cholesterol  FastingBS  MaxHR  ExerciseAngina  \\\n",
       "0   40    0      140.0        289.0          0    172               0   \n",
       "1   49    1      160.0        180.0          0    156               0   \n",
       "2   37    0      130.0        283.0          0     98               0   \n",
       "3   48    1      138.0        214.0          0    108               1   \n",
       "4   54    0      150.0        195.0          0    122               0   \n",
       "\n",
       "   Oldpeak  HeartDisease  ChestPainType_ATA  ChestPainType_NAP  \\\n",
       "0      0.0             0                  1                  0   \n",
       "1      1.0             1                  0                  1   \n",
       "2      0.0             0                  1                  0   \n",
       "3      1.5             1                  0                  0   \n",
       "4      0.0             0                  0                  1   \n",
       "\n",
       "   ChestPainType_TA  RestingECG_Normal  RestingECG_ST  ST_Slope_Flat  \\\n",
       "0                 0                  1              0              0   \n",
       "1                 0                  1              0              1   \n",
       "2                 0                  0              1              0   \n",
       "3                 0                  1              0              1   \n",
       "4                 0                  1              0              0   \n",
       "\n",
       "   ST_Slope_Up  Age_x_Oldpeak  Age_x_Cholesterol  Oldpeak_sq  \n",
       "0            1            0.0            11560.0        0.00  \n",
       "1            0           49.0             8820.0        1.00  \n",
       "2            1            0.0            10471.0        0.00  \n",
       "3            0           72.0            10272.0        2.25  \n",
       "4            1            0.0            10530.0        0.00  "
      ]
     },
     "execution_count": 44,
     "metadata": {},
     "output_type": "execute_result"
    }
   ],
   "source": [
    "import pandas as pd\n",
    "from sklearn.model_selection import train_test_split\n",
    "from sklearn.preprocessing import StandardScaler\n",
    "from sklearn.linear_model import LogisticRegression\n",
    "from sklearn.metrics import accuracy_score, confusion_matrix, classification_report, precision_score, recall_score, f1_score\n",
    "from sklearn.ensemble import RandomForestClassifier\n",
    "\n",
    "# Load encoded data\n",
    "df = pd.read_csv('../data/processed/01_heart_engineered.csv')\n",
    "df.head()"
   ]
  },
  {
   "cell_type": "code",
   "execution_count": 45,
   "id": "3e9fca61",
   "metadata": {},
   "outputs": [
    {
     "name": "stdout",
     "output_type": "stream",
     "text": [
      "Separate features and target variable\n"
     ]
    }
   ],
   "source": [
    "print(\"Separate features and target variable\")\n",
    "X = df.drop(columns=['HeartDisease'])\n",
    "y = df['HeartDisease']"
   ]
  },
  {
   "cell_type": "code",
   "execution_count": 46,
   "id": "a3534223",
   "metadata": {},
   "outputs": [
    {
     "name": "stdout",
     "output_type": "stream",
     "text": [
      "Feature Scaling\n"
     ]
    }
   ],
   "source": [
    "print(\"Feature Scaling\")\n",
    "scaler = StandardScaler()\n",
    "X_scaled = scaler.fit_transform(X)"
   ]
  },
  {
   "cell_type": "code",
   "execution_count": 47,
   "id": "0cb61c17",
   "metadata": {},
   "outputs": [
    {
     "name": "stdout",
     "output_type": "stream",
     "text": [
      "Split the data into training and testing sets\n",
      "Training set shape: (734, 18)\n",
      "Testing set shape: (184, 18)\n"
     ]
    }
   ],
   "source": [
    "print(\"Split the data into training and testing sets\")\n",
    "X_train, X_test, y_train, y_test = train_test_split(X_scaled, y, test_size=0.2, random_state=42)\n",
    "\n",
    "print(f\"Training set shape: {X_train.shape}\")\n",
    "print(f\"Testing set shape: {X_test.shape}\")"
   ]
  },
  {
   "cell_type": "code",
   "execution_count": 48,
   "id": "3be39d9f",
   "metadata": {},
   "outputs": [],
   "source": [
    "experiment_results = []"
   ]
  },
  {
   "cell_type": "code",
   "execution_count": 49,
   "id": "b6bad9c6",
   "metadata": {},
   "outputs": [
    {
     "name": "stdout",
     "output_type": "stream",
     "text": [
      "------ Build Baseline Model ------\n",
      "Accuracy: 0.87\n",
      "\n",
      "Confusion Matrix:\n",
      "[[67 10]\n",
      " [14 93]]\n",
      "\n",
      "Classification Report:\n",
      "              precision    recall  f1-score   support\n",
      "\n",
      "           0       0.83      0.87      0.85        77\n",
      "           1       0.90      0.87      0.89       107\n",
      "\n",
      "    accuracy                           0.87       184\n",
      "   macro avg       0.87      0.87      0.87       184\n",
      "weighted avg       0.87      0.87      0.87       184\n",
      "\n"
     ]
    }
   ],
   "source": [
    "print(\"------ Build Baseline Model ------\")\n",
    "# Initialize and train the model\n",
    "log_reg = LogisticRegression(random_state=42)\n",
    "log_reg.fit(X_train, y_train)\n",
    "\n",
    "# Make predictions on the test set\n",
    "y_pred = log_reg.predict(X_test)\n",
    "\n",
    "# Evaluate the model's performance\n",
    "print(f\"Accuracy: {accuracy_score(y_test, y_pred):.2f}\\n\")\n",
    "print(\"Confusion Matrix:\")\n",
    "print(confusion_matrix(y_test, y_pred))\n",
    "print(\"\\nClassification Report:\")\n",
    "print(classification_report(y_test, y_pred))"
   ]
  },
  {
   "cell_type": "code",
   "execution_count": 50,
   "id": "132f786d",
   "metadata": {},
   "outputs": [],
   "source": [
    "# Capture Logistic Regression results\n",
    "log_reg_results = {\n",
    "    'model_name': 'Logistic Regression - 01_heart_engineered',\n",
    "    'accuracy': accuracy_score(y_test, y_pred),\n",
    "    'precision_1': precision_score(y_test, y_pred, pos_label=1),\n",
    "    'recall_1': recall_score(y_test, y_pred, pos_label=1),\n",
    "    'f1_score_1': f1_score(y_test, y_pred, pos_label=1),\n",
    "    'notes': 'Baseline model with all features'\n",
    "}\n",
    "experiment_results.append(log_reg_results)"
   ]
  },
  {
   "cell_type": "markdown",
   "id": "dae91e4c",
   "metadata": {},
   "source": [
    "# <ins>Observations</ins>\n",
    "Using 'heart_encoded' data:\n",
    "- Model has an accuracy of 86%\n",
    "- Model predicted: 68 True Negatives, 17 False Negatives, 9 False postives, 90 True Positives"
   ]
  },
  {
   "cell_type": "code",
   "execution_count": 51,
   "id": "f66239c4",
   "metadata": {},
   "outputs": [
    {
     "name": "stdout",
     "output_type": "stream",
     "text": [
      "------ Random Forest Model ------\n"
     ]
    },
    {
     "name": "stdout",
     "output_type": "stream",
     "text": [
      "--- Random Forest Results ---\n",
      "Accuracy: 0.86\n",
      "\n",
      "              precision    recall  f1-score   support\n",
      "\n",
      "           0       0.82      0.84      0.83        77\n",
      "           1       0.89      0.87      0.88       107\n",
      "\n",
      "    accuracy                           0.86       184\n",
      "   macro avg       0.85      0.86      0.86       184\n",
      "weighted avg       0.86      0.86      0.86       184\n",
      "\n"
     ]
    }
   ],
   "source": [
    "print(\"------ Random Forest Model ------\")\n",
    "rf_model = RandomForestClassifier(random_state=42)\n",
    "rf_model.fit(X_train, y_train)\n",
    "\n",
    "y_pred_rf = rf_model.predict(X_test)\n",
    "\n",
    "print(\"--- Random Forest Results ---\")\n",
    "print(f\"Accuracy: {accuracy_score(y_test, y_pred_rf):.2f}\\n\")\n",
    "print(classification_report(y_test, y_pred_rf))"
   ]
  },
  {
   "cell_type": "code",
   "execution_count": 52,
   "id": "19ea79a0",
   "metadata": {},
   "outputs": [],
   "source": [
    "rf_results = {\n",
    "    'model_name': 'Random Forest - 01_heart_engineered',\n",
    "    'accuracy': accuracy_score(y_test, y_pred_rf),\n",
    "    'precision_1': precision_score(y_test, y_pred_rf, pos_label=1),\n",
    "    'recall_1': recall_score(y_test, y_pred_rf, pos_label=1),\n",
    "    'f1_score_1': f1_score(y_test, y_pred_rf, pos_label=1),\n",
    "    'notes': 'Untuned RF with all features'\n",
    "}\n",
    "experiment_results.append(rf_results)"
   ]
  },
  {
   "cell_type": "markdown",
   "id": "8e8cc5ca",
   "metadata": {},
   "source": [
    "# <ins>Observations</ins>\n",
    "Using 'heart_encoded' data:\n",
    "\n",
    "- The random forrest model performed similar to the regression model so I may have reached the limit of prediction accuracy with the current features. I will now optimise the hyperparamters of the random forrest model to try and improve the performance."
   ]
  },
  {
   "cell_type": "code",
   "execution_count": 53,
   "id": "5c975408",
   "metadata": {},
   "outputs": [
    {
     "name": "stdout",
     "output_type": "stream",
     "text": [
      "Fitting 5 folds for each of 24 candidates, totalling 120 fits\n",
      "Best Parameters: {'max_depth': 10, 'min_samples_leaf': 2, 'min_samples_split': 2, 'n_estimators': 100}\n",
      "\n",
      "--- Tuned Random Forest Results ---\n",
      "              precision    recall  f1-score   support\n",
      "\n",
      "           0       0.81      0.83      0.82        77\n",
      "           1       0.88      0.86      0.87       107\n",
      "\n",
      "    accuracy                           0.85       184\n",
      "   macro avg       0.84      0.85      0.84       184\n",
      "weighted avg       0.85      0.85      0.85       184\n",
      "\n"
     ]
    }
   ],
   "source": [
    "from sklearn.model_selection import GridSearchCV\n",
    "\n",
    "param_grid = {\n",
    "    'n_estimators': [100, 200],\n",
    "    'max_depth': [10, 20, None],\n",
    "    'min_samples_split': [2, 5],\n",
    "    'min_samples_leaf': [1, 2]\n",
    "}\n",
    "\n",
    "grid_search = GridSearchCV(estimator=RandomForestClassifier(random_state=42),\n",
    "                           param_grid=param_grid,\n",
    "                           cv=5,\n",
    "                           n_jobs=-1,\n",
    "                           verbose=2)\n",
    "\n",
    "grid_search.fit(X_train, y_train)\n",
    "\n",
    "print(f\"Best Parameters: {grid_search.best_params_}\")\n",
    "\n",
    "best_rf = grid_search.best_estimator_\n",
    "y_pred_best = best_rf.predict(X_test)\n",
    "\n",
    "print(\"\\n--- Tuned Random Forest Results ---\")\n",
    "print(classification_report(y_test, y_pred_best))"
   ]
  },
  {
   "cell_type": "code",
   "execution_count": 54,
   "id": "9bff2d0d",
   "metadata": {},
   "outputs": [],
   "source": [
    "tuned_rf_results = {\n",
    "    'model_name': 'Tuned Random Forest - 01_heart_engineered',\n",
    "    'accuracy': accuracy_score(y_test, y_pred_best),\n",
    "    'precision_1': precision_score(y_test, y_pred_best, pos_label=1),\n",
    "    'recall_1': recall_score(y_test, y_pred_best, pos_label=1),\n",
    "    'f1_score_1': f1_score(y_test, y_pred_best, pos_label=1),\n",
    "    'notes': 'GridSearchCV tuned RF'\n",
    "}\n",
    "experiment_results.append(tuned_rf_results)"
   ]
  },
  {
   "cell_type": "code",
   "execution_count": 55,
   "id": "fe82a01b",
   "metadata": {},
   "outputs": [
    {
     "name": "stdout",
     "output_type": "stream",
     "text": [
      "\n",
      "--- Model Comparison ---\n",
      "                                  model_name  accuracy  precision_1  recall_1  \\\n",
      "0  Logistic Regression - 01_heart_engineered  0.869565     0.902913  0.869159   \n",
      "1        Random Forest - 01_heart_engineered  0.858696     0.885714  0.869159   \n",
      "2  Tuned Random Forest - 01_heart_engineered  0.847826     0.876190  0.859813   \n",
      "\n",
      "   f1_score_1                             notes  \n",
      "0    0.885714  Baseline model with all features  \n",
      "1    0.877358      Untuned RF with all features  \n",
      "2    0.867925             GridSearchCV tuned RF  \n",
      "Results saved to ../model_results.csv\n"
     ]
    }
   ],
   "source": [
    "# ----- Compare all experiment results -----\n",
    "results_df = pd.DataFrame(experiment_results)\n",
    "\n",
    "# Display the comparison table\n",
    "print(\"\\n--- Model Comparison ---\")\n",
    "print(results_df)\n",
    "\n",
    "results_path = '../model_results.csv'\n",
    "results_df.to_csv(results_path, mode = 'a', header = False, index=False)\n",
    "print(f\"Results saved to {results_path}\")"
   ]
  },
  {
   "cell_type": "markdown",
   "id": "70df72d5",
   "metadata": {},
   "source": [
    "# <ins>Observations</ins>\n",
    "\n",
    "No improvement in accuracy therefore more feature engineering is required to create new more informative features from the current set."
   ]
  }
 ],
 "metadata": {
  "kernelspec": {
   "display_name": ".venv",
   "language": "python",
   "name": "python3"
  },
  "language_info": {
   "codemirror_mode": {
    "name": "ipython",
    "version": 3
   },
   "file_extension": ".py",
   "mimetype": "text/x-python",
   "name": "python",
   "nbconvert_exporter": "python",
   "pygments_lexer": "ipython3",
   "version": "3.11.9"
  }
 },
 "nbformat": 4,
 "nbformat_minor": 5
}
